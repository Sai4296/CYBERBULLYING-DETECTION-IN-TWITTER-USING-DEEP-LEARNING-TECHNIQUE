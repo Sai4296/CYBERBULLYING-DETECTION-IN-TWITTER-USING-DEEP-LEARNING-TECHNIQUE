{
 "cells": [
  {
   "cell_type": "code",
   "execution_count": 36,
   "id": "d98d0786",
   "metadata": {},
   "outputs": [
    {
     "name": "stdout",
     "output_type": "stream",
     "text": [
      "9\n",
      "In 24 Seconds WhatsApp will open and after 15 Seconds Message will be Delivered!\n"
     ]
    }
   ],
   "source": [
    "from datetime import datetime\n",
    "import pywhatkit as pwt\n",
    "import pandas as pd \n",
    "import numpy as np\n",
    "import matplotlib.pyplot as plt\n",
    "import seaborn as sns\n",
    "import smtplib\n",
    "import time \n",
    "import joblib \n",
    "import json\n",
    "import warnings\n",
    "warnings.filterwarnings('ignore')\n",
    "import pandas as pd\n",
    "import pickle\n",
    "from twilio.rest import Client\n",
    "\n",
    "account_sid = 'AC26cba64820cb1418702226924166a76f'\n",
    "auth_token = '3c105c4d0c9716118bcae8cb2ed9b17f'\n",
    "client = Client(account_sid, auth_token)\n",
    "\n",
    "now = datetime.now()\n",
    "dt_string = now.strftime(\"%d/%m/%Y %H:%M:%S\")\n",
    "\n",
    "date=now.strftime(\"%d/%m/%Y\")\n",
    "time_now=now.strftime(\"%H:%M:%S\")\n",
    "hour= now.strftime(\"%H\")\n",
    "minute = now.strftime(\"%M\")\n",
    "second = now.strftime(\"%S\")\n",
    "\n",
    "hour=round(int(hour))\n",
    "minute=round(int(minute))\n",
    "social_minute=int(minute)+1\n",
    "print(social_minute)\n",
    "\n",
    "message = \"bitch\"\n",
    "body =[message]\n",
    "to_contact = \"+918667013532\" \n",
    "\n",
    "pwt.sendwhatmsg(to_contact,message,int(hour),int(social_minute))\n",
    "#pwt.sendwhatmsg(to_contact,message,str(hour),str(social_minute))\n",
    "cvf=pickle.load(open(\"models/count_vectorizer.pickle\", 'rb'))\n",
    "vect = cvf.transform(body).toarray()\n",
    "svm_from_joblib = joblib.load('models/svm_model.pkl')  \n",
    "my_prediction = svm_from_joblib.predict(vect)\n",
    "\n",
    "if my_prediction == [0]:\n",
    "    \n",
    "     mess = \"abusive\"\n",
    "    \n",
    "     list_of_history= {\"Date\":str(date),\"Time\":str(time),\"Contact\":str(to_contact),\"Message\":str(message),\"Prediction\":mess}\n",
    "    \n",
    "     result=json.dumps(list_of_history)\n",
    "        #print(result)\n",
    "    \n",
    "     message = client.messages.create(\n",
    "                               from_='+13608605405',\n",
    "                               body = result,\n",
    "                               to = \"+918667013532\")\n",
    "elif my_prediction == [1]:\n",
    "    \n",
    "     mess = \"abusive\"\n",
    "    \n",
    "     list_of_history= {\"Date\":str(date),\"Time\":str(time),\"Contact\":str(to_contact),\"Message\":str(message),\"Prediction\":mess}\n",
    "    \n",
    "     result=json.dumps(list_of_history)\n",
    "        #print(result)\n",
    "    \n",
    "     message = client.messages.create(\n",
    "                                from_='+13608605405',\n",
    "                               body = result,\n",
    "                               to = \"+918667013532\")\n",
    "elif my_prediction == [2]:\n",
    "    \n",
    "     mess = \"normal\""
   ]
  },
  {
   "cell_type": "code",
   "execution_count": null,
   "id": "cbf48d10",
   "metadata": {},
   "outputs": [],
   "source": []
  }
 ],
 "metadata": {
  "kernelspec": {
   "display_name": "Python 3 (ipykernel)",
   "language": "python",
   "name": "python3"
  },
  "language_info": {
   "codemirror_mode": {
    "name": "ipython",
    "version": 3
   },
   "file_extension": ".py",
   "mimetype": "text/x-python",
   "name": "python",
   "nbconvert_exporter": "python",
   "pygments_lexer": "ipython3",
   "version": "3.9.7"
  }
 },
 "nbformat": 4,
 "nbformat_minor": 5
}
