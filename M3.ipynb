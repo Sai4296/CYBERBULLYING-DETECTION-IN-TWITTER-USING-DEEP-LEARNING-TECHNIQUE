{
 "cells": [
  {
   "cell_type": "code",
   "execution_count": 14,
   "id": "d98d0786",
   "metadata": {},
   "outputs": [
    {
     "name": "stdout",
     "output_type": "stream",
     "text": [
      "5\n",
      "In 16 Seconds WhatsApp will open and after 15 Seconds Message will be Delivered!\n"
     ]
    }
   ],
   "source": [
    "from datetime import datetime\n",
    "import pywhatkit as pwt\n",
    "import pandas as pd \n",
    "import numpy as np\n",
    "import matplotlib.pyplot as plt\n",
    "import seaborn as sns\n",
    "import smtplib\n",
    "import time \n",
    "import joblib \n",
    "import json\n",
    "import warnings\n",
    "warnings.filterwarnings('ignore')\n",
    "import pandas as pd\n",
    "import pickle\n",
    "from twilio.rest import Client\n",
    "\n",
    "account_sid = 'AC26cba64820cb1418702226924166a76f'\n",
    "auth_token = 'da18bb936d8b71bd402e5720e2c47bff'\n",
    "client = Client(account_sid, auth_token)\n",
    "\n",
    "now = datetime.now()\n",
    "dt_string = now.strftime(\"%d/%m/%Y %H:%M:%S\")\n",
    "\n",
    "date=now.strftime(\"%d/%m/%Y\")\n",
    "time_now=now.strftime(\"%H:%M:%S\")\n",
    "hour= now.strftime(\"%H\")\n",
    "minute = now.strftime(\"%M\")\n",
    "second = now.strftime(\"%S\")\n",
    "\n",
    "hour=round(int(hour))\n",
    "minute=round(int(minute))\n",
    "social_minute=int(minute)+1\n",
    "print(social_minute)\n",
    "\n",
    "message = \"fat\"\n",
    "body =[message]\n",
    "to_contact = \"+919398477407\" \n",
    "\n",
    "pwt.sendwhatmsg(to_contact,message,int(hour),int(social_minute))\n",
    "#pwt.sendwhatmsg(to_contact,message,str(hour),str(social_minute))\n",
    "cvf=pickle.load(open(r\"C:\\Users\\appir\\Desktop\\MAIN PROJECT/count_vectorizer.pickle\", 'rb'))\n",
    "vect = cvf.transform(body).toarray()\n",
    "svm_from_joblib = joblib.load(r'C:\\Users\\appir\\Desktop\\MAIN PROJECT/svm_model.pkl')  \n",
    "my_prediction = svm_from_joblib.predict(vect)\n",
    "\n",
    "if my_prediction == [0]:\n",
    "    \n",
    "     mess = \"abusive\"\n",
    "    \n",
    "     list_of_history= {\"Date\":str(date),\"Time\":str(time),\"Contact\":str(to_contact),\"Message\":str(message),\"Prediction\":mess}\n",
    "    \n",
    "     result=json.dumps(list_of_history)\n",
    "        #print(result)\n",
    "    \n",
    "     message = client.messages.create(\n",
    "                               from_='+14346029622',\n",
    "                               body = result,\n",
    "                               to = \"+919398477407\")\n",
    "elif my_prediction == [1]:\n",
    "    \n",
    "     mess = \"offensive\"\n",
    "    \n",
    "     list_of_history= {\"Date\":str(date),\"Time\":str(time),\"Contact\":str(to_contact),\"Message\":str(message),\"Prediction\":mess}\n",
    "    \n",
    "     result=json.dumps(list_of_history)\n",
    "        #print(result)\n",
    "    \n",
    "     message = client.messages.create(\n",
    "                                from_='+14346029622',\n",
    "                               body = result,\n",
    "                               to = \"+919398477407\")\n",
    "elif my_prediction == [2]:\n",
    "    \n",
    "     mess = \"normal\""
   ]
  },
  {
   "cell_type": "code",
   "execution_count": 10,
   "id": "a156a194",
   "metadata": {},
   "outputs": [
    {
     "name": "stdout",
     "output_type": "stream",
     "text": [
      "Requirement already satisfied: twilio in c:\\users\\appir\\anaconda3\\lib\\site-packages (7.17.0)\n",
      "Requirement already satisfied: requests>=2.0.0 in c:\\users\\appir\\anaconda3\\lib\\site-packages (from twilio) (2.26.0)\n",
      "Requirement already satisfied: pytz in c:\\users\\appir\\anaconda3\\lib\\site-packages (from twilio) (2021.3)\n",
      "Requirement already satisfied: PyJWT<3.0.0,>=2.0.0 in c:\\users\\appir\\anaconda3\\lib\\site-packages (from twilio) (2.1.0)\n",
      "Requirement already satisfied: certifi>=2017.4.17 in c:\\users\\appir\\anaconda3\\lib\\site-packages (from requests>=2.0.0->twilio) (2021.10.8)\n",
      "Requirement already satisfied: urllib3<1.27,>=1.21.1 in c:\\users\\appir\\anaconda3\\lib\\site-packages (from requests>=2.0.0->twilio) (1.26.7)\n",
      "Requirement already satisfied: charset-normalizer~=2.0.0 in c:\\users\\appir\\anaconda3\\lib\\site-packages (from requests>=2.0.0->twilio) (2.0.4)\n",
      "Requirement already satisfied: idna<4,>=2.5 in c:\\users\\appir\\anaconda3\\lib\\site-packages (from requests>=2.0.0->twilio) (3.2)\n"
     ]
    }
   ],
   "source": [
    "! pip install twilio"
   ]
  },
  {
   "cell_type": "code",
   "execution_count": 11,
   "id": "cbf48d10",
   "metadata": {},
   "outputs": [
    {
     "name": "stdout",
     "output_type": "stream",
     "text": [
      "Requirement already satisfied: pywhatkit in c:\\users\\appir\\anaconda3\\lib\\site-packages (5.4)\n",
      "Requirement already satisfied: Flask in c:\\users\\appir\\anaconda3\\lib\\site-packages (from pywhatkit) (1.1.2)\n",
      "Requirement already satisfied: wikipedia in c:\\users\\appir\\anaconda3\\lib\\site-packages (from pywhatkit) (1.4.0)\n",
      "Requirement already satisfied: Pillow in c:\\users\\appir\\anaconda3\\lib\\site-packages (from pywhatkit) (8.4.0)\n",
      "Requirement already satisfied: pyautogui in c:\\users\\appir\\anaconda3\\lib\\site-packages (from pywhatkit) (0.9.53)\n",
      "Requirement already satisfied: requests in c:\\users\\appir\\anaconda3\\lib\\site-packages (from pywhatkit) (2.26.0)\n",
      "Requirement already satisfied: click>=5.1 in c:\\users\\appir\\anaconda3\\lib\\site-packages (from Flask->pywhatkit) (8.0.3)\n",
      "Requirement already satisfied: itsdangerous>=0.24 in c:\\users\\appir\\anaconda3\\lib\\site-packages (from Flask->pywhatkit) (2.0.1)\n",
      "Requirement already satisfied: Werkzeug>=0.15 in c:\\users\\appir\\anaconda3\\lib\\site-packages (from Flask->pywhatkit) (2.0.2)\n",
      "Requirement already satisfied: Jinja2>=2.10.1 in c:\\users\\appir\\anaconda3\\lib\\site-packages (from Flask->pywhatkit) (2.11.3)\n",
      "Requirement already satisfied: colorama in c:\\users\\appir\\anaconda3\\lib\\site-packages (from click>=5.1->Flask->pywhatkit) (0.4.4)\n",
      "Requirement already satisfied: MarkupSafe>=0.23 in c:\\users\\appir\\anaconda3\\lib\\site-packages (from Jinja2>=2.10.1->Flask->pywhatkit) (1.1.1)\n",
      "Requirement already satisfied: pymsgbox in c:\\users\\appir\\anaconda3\\lib\\site-packages (from pyautogui->pywhatkit) (1.0.9)\n",
      "Requirement already satisfied: mouseinfo in c:\\users\\appir\\anaconda3\\lib\\site-packages (from pyautogui->pywhatkit) (0.1.3)\n",
      "Requirement already satisfied: PyTweening>=1.0.1 in c:\\users\\appir\\anaconda3\\lib\\site-packages (from pyautogui->pywhatkit) (1.0.4)\n",
      "Requirement already satisfied: pyscreeze>=0.1.21 in c:\\users\\appir\\anaconda3\\lib\\site-packages (from pyautogui->pywhatkit) (0.1.28)\n",
      "Requirement already satisfied: pygetwindow>=0.0.5 in c:\\users\\appir\\anaconda3\\lib\\site-packages (from pyautogui->pywhatkit) (0.0.9)\n",
      "Requirement already satisfied: pyrect in c:\\users\\appir\\anaconda3\\lib\\site-packages (from pygetwindow>=0.0.5->pyautogui->pywhatkit) (0.2.0)\n",
      "Requirement already satisfied: pyperclip in c:\\users\\appir\\anaconda3\\lib\\site-packages (from mouseinfo->pyautogui->pywhatkit) (1.8.2)\n",
      "Requirement already satisfied: certifi>=2017.4.17 in c:\\users\\appir\\anaconda3\\lib\\site-packages (from requests->pywhatkit) (2021.10.8)\n",
      "Requirement already satisfied: idna<4,>=2.5 in c:\\users\\appir\\anaconda3\\lib\\site-packages (from requests->pywhatkit) (3.2)\n",
      "Requirement already satisfied: charset-normalizer~=2.0.0 in c:\\users\\appir\\anaconda3\\lib\\site-packages (from requests->pywhatkit) (2.0.4)\n",
      "Requirement already satisfied: urllib3<1.27,>=1.21.1 in c:\\users\\appir\\anaconda3\\lib\\site-packages (from requests->pywhatkit) (1.26.7)\n",
      "Requirement already satisfied: beautifulsoup4 in c:\\users\\appir\\anaconda3\\lib\\site-packages (from wikipedia->pywhatkit) (4.10.0)\n",
      "Requirement already satisfied: soupsieve>1.2 in c:\\users\\appir\\anaconda3\\lib\\site-packages (from beautifulsoup4->wikipedia->pywhatkit) (2.2.1)\n"
     ]
    }
   ],
   "source": [
    "! pip install pywhatkit"
   ]
  },
  {
   "cell_type": "code",
   "execution_count": null,
   "id": "a144ae3d",
   "metadata": {},
   "outputs": [],
   "source": []
  }
 ],
 "metadata": {
  "kernelspec": {
   "display_name": "Python 3 (ipykernel)",
   "language": "python",
   "name": "python3"
  },
  "language_info": {
   "codemirror_mode": {
    "name": "ipython",
    "version": 3
   },
   "file_extension": ".py",
   "mimetype": "text/x-python",
   "name": "python",
   "nbconvert_exporter": "python",
   "pygments_lexer": "ipython3",
   "version": "3.9.7"
  }
 },
 "nbformat": 4,
 "nbformat_minor": 5
}
